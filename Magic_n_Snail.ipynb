{
 "cells": [
  {
   "cell_type": "markdown",
   "metadata": {},
   "source": [
    "마방진 그리기"
   ]
  },
  {
   "cell_type": "code",
   "execution_count": 24,
   "metadata": {},
   "outputs": [],
   "source": [
    "import numpy as np"
   ]
  },
  {
   "cell_type": "code",
   "execution_count": 185,
   "metadata": {},
   "outputs": [],
   "source": [
    "magic = np.zeros([5,5])\n",
    "# init[0][2] = 1"
   ]
  },
  {
   "cell_type": "code",
   "execution_count": 186,
   "metadata": {},
   "outputs": [
    {
     "data": {
      "text/plain": [
       "array([[0., 0., 0., 0., 0.],\n",
       "       [0., 0., 0., 0., 0.],\n",
       "       [0., 0., 0., 0., 0.],\n",
       "       [0., 0., 0., 0., 0.],\n",
       "       [0., 0., 0., 0., 0.]])"
      ]
     },
     "execution_count": 186,
     "metadata": {},
     "output_type": "execute_result"
    }
   ],
   "source": [
    "magic"
   ]
  },
  {
   "cell_type": "code",
   "execution_count": 187,
   "metadata": {},
   "outputs": [],
   "source": [
    "j= 0\n",
    "k = 0\n",
    "for i in range(25):\n",
    "    magic[(5-i+j)%5][(2+i-k)%5] = i+1\n",
    "    if (i+1)%5 == 0:\n",
    "        j+=2\n",
    "        k+=1"
   ]
  },
  {
   "cell_type": "code",
   "execution_count": 188,
   "metadata": {},
   "outputs": [
    {
     "data": {
      "text/plain": [
       "array([[17., 24.,  1.,  8., 15.],\n",
       "       [23.,  5.,  7., 14., 16.],\n",
       "       [ 4.,  6., 13., 20., 22.],\n",
       "       [10., 12., 19., 21.,  3.],\n",
       "       [11., 18., 25.,  2.,  9.]])"
      ]
     },
     "execution_count": 188,
     "metadata": {},
     "output_type": "execute_result"
    }
   ],
   "source": [
    "magic"
   ]
  },
  {
   "cell_type": "markdown",
   "metadata": {},
   "source": [
    "달팽이 수열\n",
    "-> 수학적 규칙을 찾아서 풀려했으나 실패\n",
    "-> 리스트로 방향키를 만들어서 사용하는 법 배움\n",
    "-> 패딩을 사용하는 법에 대해 배움"
   ]
  },
  {
   "cell_type": "code",
   "execution_count": 397,
   "metadata": {},
   "outputs": [],
   "source": [
    "snail = np.zeros([5,5])"
   ]
  },
  {
   "cell_type": "code",
   "execution_count": 375,
   "metadata": {
    "scrolled": true
   },
   "outputs": [
    {
     "data": {
      "text/plain": [
       "array([[0., 0., 0., 0., 0.],\n",
       "       [0., 0., 0., 0., 0.],\n",
       "       [0., 0., 0., 0., 0.],\n",
       "       [0., 0., 0., 0., 0.],\n",
       "       [0., 0., 0., 0., 0.]])"
      ]
     },
     "execution_count": 375,
     "metadata": {},
     "output_type": "execute_result"
    }
   ],
   "source": [
    "snail"
   ]
  },
  {
   "cell_type": "code",
   "execution_count": 465,
   "metadata": {},
   "outputs": [
    {
     "name": "stdout",
     "output_type": "stream",
     "text": [
      "0 1 5 0 0 0\n",
      "1 2 5 0 0 1\n",
      "2 3 5 0 0 2\n",
      "3 4 5 0 0 3\n",
      "4 5 5 0 0 4\n",
      "ha\n",
      "5 5 4 1 1 4\n",
      "6 6 4 1 2 4\n",
      "7 7 4 1 3 4\n",
      "8 8 4 1 4 4\n",
      "ha\n",
      "haha\n",
      "9 9 4 2 4 0\n",
      "10 10 4 2 4 4\n",
      "11 11 4 2 4 3\n",
      "12 12 4 2 4 2\n",
      "ha\n",
      "13 12 3 3 0 2\n",
      "ha\n",
      "haha\n",
      "14 13 3 4 0 6\n"
     ]
    },
    {
     "ename": "IndexError",
     "evalue": "index 6 is out of bounds for axis 0 with size 6",
     "output_type": "error",
     "traceback": [
      "\u001b[1;31m---------------------------------------------------------------------------\u001b[0m",
      "\u001b[1;31mIndexError\u001b[0m                                Traceback (most recent call last)",
      "\u001b[1;32m<ipython-input-465-15ea949b32a5>\u001b[0m in \u001b[0;36m<module>\u001b[1;34m\u001b[0m\n\u001b[0;32m     11\u001b[0m     \u001b[0my\u001b[0m \u001b[1;33m=\u001b[0m \u001b[0my0\u001b[0m \u001b[1;33m+\u001b[0m \u001b[0mk\u001b[0m\u001b[1;33m*\u001b[0m\u001b[1;33m(\u001b[0m\u001b[0mi\u001b[0m\u001b[1;33m%\u001b[0m\u001b[1;36m5\u001b[0m\u001b[1;33m)\u001b[0m\u001b[1;33m\u001b[0m\u001b[1;33m\u001b[0m\u001b[0m\n\u001b[0;32m     12\u001b[0m     \u001b[0mprint\u001b[0m\u001b[1;33m(\u001b[0m\u001b[0mi\u001b[0m\u001b[1;33m,\u001b[0m\u001b[0mcnt\u001b[0m\u001b[1;33m,\u001b[0m\u001b[0mT\u001b[0m\u001b[1;33m,\u001b[0m\u001b[0mf\u001b[0m\u001b[1;33m,\u001b[0m\u001b[0mx\u001b[0m\u001b[1;33m,\u001b[0m\u001b[0my\u001b[0m\u001b[1;33m)\u001b[0m\u001b[1;33m\u001b[0m\u001b[1;33m\u001b[0m\u001b[0m\n\u001b[1;32m---> 13\u001b[1;33m     \u001b[0msnail\u001b[0m\u001b[1;33m[\u001b[0m\u001b[0mx\u001b[0m\u001b[1;33m]\u001b[0m\u001b[1;33m[\u001b[0m\u001b[0my\u001b[0m\u001b[1;33m]\u001b[0m \u001b[1;33m=\u001b[0m \u001b[0mi\u001b[0m\u001b[1;33m+\u001b[0m\u001b[1;36m1\u001b[0m\u001b[1;33m\u001b[0m\u001b[1;33m\u001b[0m\u001b[0m\n\u001b[0m\u001b[0;32m     14\u001b[0m     \u001b[1;32mif\u001b[0m \u001b[1;33m(\u001b[0m\u001b[0mcnt\u001b[0m\u001b[1;33m)\u001b[0m\u001b[1;33m%\u001b[0m\u001b[0mT\u001b[0m\u001b[1;33m==\u001b[0m\u001b[1;36m0\u001b[0m\u001b[1;33m:\u001b[0m\u001b[1;33m\u001b[0m\u001b[1;33m\u001b[0m\u001b[0m\n\u001b[0;32m     15\u001b[0m         \u001b[0mprint\u001b[0m\u001b[1;33m(\u001b[0m\u001b[1;34m'ha'\u001b[0m\u001b[1;33m)\u001b[0m\u001b[1;33m\u001b[0m\u001b[1;33m\u001b[0m\u001b[0m\n",
      "\u001b[1;31mIndexError\u001b[0m: index 6 is out of bounds for axis 0 with size 6"
     ]
    }
   ],
   "source": [
    "snail = np.zeros([6,6])\n",
    "x0,y0 = 0,0\n",
    "j,k = 0,1\n",
    "T=5\n",
    "t=5\n",
    "f = 0\n",
    "cnt0 = 1\n",
    "for i in range(25):\n",
    "    cnt = i+cnt0\n",
    "    x = x0+j*((i+1)%5)\n",
    "    y = y0 + k*(i%5)\n",
    "    print(i,cnt,T,f,x,y)\n",
    "    snail[x][y] = i+1\n",
    "    if (cnt)%T==0:\n",
    "        print('ha')\n",
    "        f+=1\n",
    "        y0 = y\n",
    "        x0  = x\n",
    "        j,k = k,j\n",
    "        if f%2 == 1:\n",
    "            T=T-1\n",
    "            cnt0-=1\n",
    "        if f%2 ==0:\n",
    "            print('haha')\n",
    "            j,k = -j,-k"
   ]
  },
  {
   "cell_type": "code",
   "execution_count": 476,
   "metadata": {},
   "outputs": [],
   "source": [
    "#direction, padding 쓰고 싶은 배열의 겉을 안쓰는 숫자로 채움\n",
    "dx = [0,1,0,-1]\n",
    "dy = [1,0,-1,0]"
   ]
  },
  {
   "cell_type": "code",
   "execution_count": 533,
   "metadata": {},
   "outputs": [],
   "source": [
    "# 인덱스가 사용하고 싶은 배열의 밖으로 나갔을 때 오류가 발생하지 않게 해줌\n",
    "# 사용하지 않는 숫자로 padding 해주면 배열 밖이라는 것을 컴퓨터에게 인식시켜줄 수 있다.\n",
    "pad = np.zeros([7,7])\n",
    "pad[0] = -1\n",
    "pad[:,0] = -1\n",
    "pad[-1] = -1\n",
    "pad[:,-1] = -1"
   ]
  },
  {
   "cell_type": "code",
   "execution_count": 534,
   "metadata": {},
   "outputs": [
    {
     "name": "stdout",
     "output_type": "stream",
     "text": [
      "1 1\n",
      "1 2\n",
      "1 3\n",
      "1 4\n",
      "1 5\n",
      "2 5\n",
      "3 5\n",
      "4 5\n",
      "5 5\n",
      "5 4\n",
      "5 3\n",
      "5 2\n",
      "5 1\n",
      "4 1\n",
      "3 1\n",
      "2 1\n",
      "2 2\n",
      "2 3\n",
      "2 4\n",
      "3 4\n",
      "4 4\n",
      "4 3\n",
      "4 2\n",
      "3 2\n",
      "3 3\n"
     ]
    }
   ],
   "source": [
    "x,y = 1,1\n",
    "dx = [0,1,0,-1]\n",
    "dy = [1,0,-1,0]\n",
    "dirt = 0\n",
    "for i in range(25):\n",
    "    pad[x,y] = i+1\n",
    "    print(x,y)\n",
    "    x = x+dx[dirt%4]\n",
    "    y = y+dy[dirt%4]\n",
    "    \n",
    "    if pad[x,y] !=0: #벽에 부딪히면\n",
    "        x = x-dx[dirt%4]\n",
    "        y = y-dy[dirt%4]\n",
    "        dirt+=1\n",
    "        x = x+dx[dirt%4]\n",
    "        y = y+dy[dirt%4]"
   ]
  },
  {
   "cell_type": "code",
   "execution_count": 535,
   "metadata": {},
   "outputs": [
    {
     "data": {
      "text/plain": [
       "array([[-1., -1., -1., -1., -1., -1., -1.],\n",
       "       [-1.,  1.,  2.,  3.,  4.,  5., -1.],\n",
       "       [-1., 16., 17., 18., 19.,  6., -1.],\n",
       "       [-1., 15., 24., 25., 20.,  7., -1.],\n",
       "       [-1., 14., 23., 22., 21.,  8., -1.],\n",
       "       [-1., 13., 12., 11., 10.,  9., -1.],\n",
       "       [-1., -1., -1., -1., -1., -1., -1.]])"
      ]
     },
     "execution_count": 535,
     "metadata": {},
     "output_type": "execute_result"
    }
   ],
   "source": [
    "pad"
   ]
  },
  {
   "cell_type": "code",
   "execution_count": null,
   "metadata": {},
   "outputs": [],
   "source": []
  }
 ],
 "metadata": {
  "kernelspec": {
   "display_name": "Python 3",
   "language": "python",
   "name": "python3"
  },
  "language_info": {
   "codemirror_mode": {
    "name": "ipython",
    "version": 3
   },
   "file_extension": ".py",
   "mimetype": "text/x-python",
   "name": "python",
   "nbconvert_exporter": "python",
   "pygments_lexer": "ipython3",
   "version": "3.7.3"
  }
 },
 "nbformat": 4,
 "nbformat_minor": 2
}
