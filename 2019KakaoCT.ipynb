{
 "cells": [
  {
   "cell_type": "code",
   "execution_count": 114,
   "metadata": {},
   "outputs": [],
   "source": [
    "s = \"aabbaccc\""
   ]
  },
  {
   "cell_type": "code",
   "execution_count": 77,
   "metadata": {},
   "outputs": [
    {
     "data": {
      "text/plain": [
       "'2a2ba3c'"
      ]
     },
     "execution_count": 77,
     "metadata": {},
     "output_type": "execute_result"
    }
   ],
   "source": [
    "s = s + '0'\n",
    "temp = []\n",
    "cnt = 1\n",
    "dic = {}\n",
    "\n",
    "for i in range(len(s)-1):\n",
    "    if s[i] == s[i+1]:\n",
    "        cnt+=1\n",
    "    else:\n",
    "        temp.append(str(cnt))\n",
    "        temp.append(s[i])\n",
    "        cnt = 1\n",
    "temp = filter(lambda a: a != '1', temp)\n",
    "''.join(temp)\n",
    "# answer = 0"
   ]
  },
  {
   "cell_type": "raw",
   "metadata": {},
   "source": [
    "s = s + '0'\n",
    "    cnt = 1\n",
    "    ifcnt = 0\n",
    "    dic = {}\n",
    "\n",
    "    for i in range(int(len(s)/2),0,-1):\n",
    "        dic['len'+str(i)] = []\n",
    "    \n",
    "    for i in range(int(len(s)/2),0,-1):\n",
    "        for j in range(int((len(s)-1)/i)):\n",
    "\n",
    "            if s[i*j:(j+1)*i] == s[(j+1)*i:(j+2)*i]:           \n",
    "                cnt+=1\n",
    "                ifcnt += 1\n",
    "            else:            \n",
    "                dic['len'+str(i)].append(str(cnt))\n",
    "                dic['len'+str(i)].append(s[j])\n",
    "                cnt = 1\n",
    "        if ifcnt != 0:       \n",
    "            dic['len'+str(i)] = list(filter(lambda a: a != '1', dic['len'+str(i)]))\n",
    "            dic['len'+str(i)] = ''.join(dic['len'+str(i)])\n",
    "    value = [i for i in dic.values() if type(i) == str ]\n",
    "    answer = len(min(value))"
   ]
  },
  {
   "cell_type": "code",
   "execution_count": 307,
   "metadata": {},
   "outputs": [
    {
     "name": "stdout",
     "output_type": "stream",
     "text": [
      "0\n",
      "0\n",
      "abcdede\n",
      "else abc = ded\n",
      "dede\n",
      "else ded = e0\n",
      "e\n",
      "1\n",
      "0\n",
      "0\n"
     ]
    }
   ],
   "source": [
    "s = \"abcabcdede\"\n",
    "\n",
    "s = s + '0'\n",
    "cnt = 1\n",
    "dic = {}\n",
    "\n",
    "for i in range(int(len(s)/2),0,-1):\n",
    "    dic['len'+str(i)] = []\n",
    "    \n",
    "for i in range(int(len(s)/2),0,-1):\n",
    "    ifcnt = 0\n",
    "    for j in range(int((len(s)-1)/i)):\n",
    "        \n",
    "        if s[i*j:(j+1)*i] == s[(j+1)*i:(j+2)*i]:\n",
    "\n",
    "            cnt+=1\n",
    "            ifcnt += 1\n",
    "        elif ifcnt == 0:\n",
    "            break\n",
    "            \n",
    "        else:\n",
    "            print('else',s[i*j:(j+1)*i], '=', s[(j+1)*i:(j+2)*i])\n",
    "            dic['len'+str(i)].append(str(cnt))\n",
    "            dic['len'+str(i)].append(s[i*j:(j+1)*i])\n",
    "            cnt = 1\n",
    "            if len(s[(j+1)*i:-1])<i:\n",
    "                dic['len'+str(i)].append(s[(j+1)*i:-1])\n",
    "\n",
    "    if ifcnt != 0:       \n",
    "        dic['len'+str(i)] = list(filter(lambda a: a != '1', dic['len'+str(i)]))\n",
    "        dic['len'+str(i)] = ''.join(dic['len'+str(i)])\n",
    "\n",
    "strlen = {}\n",
    "for i in dic.values():\n",
    "    strlen[len(i)] = i\n",
    "del strlen[0]\n",
    "\n",
    "\n",
    "if len(strlen) == 0:\n",
    "    answer = len(s)-1\n",
    "else:\n",
    "    answer = min(strlen.keys())"
   ]
  },
  {
   "cell_type": "code",
   "execution_count": 308,
   "metadata": {},
   "outputs": [
    {
     "data": {
      "text/plain": [
       "{'len5': [], 'len4': [], 'len3': '2abcdede', 'len2': [], 'len1': []}"
      ]
     },
     "execution_count": 308,
     "metadata": {},
     "output_type": "execute_result"
    }
   ],
   "source": [
    "dic"
   ]
  },
  {
   "cell_type": "code",
   "execution_count": 292,
   "metadata": {},
   "outputs": [
    {
     "ename": "TypeError",
     "evalue": "slice indices must be integers or None or have an __index__ method",
     "output_type": "error",
     "traceback": [
      "\u001b[1;31m---------------------------------------------------------------------------\u001b[0m",
      "\u001b[1;31mTypeError\u001b[0m                                 Traceback (most recent call last)",
      "\u001b[1;32m<ipython-input-292-2123bf1024cc>\u001b[0m in \u001b[0;36m<module>\u001b[1;34m\u001b[0m\n\u001b[1;32m----> 1\u001b[1;33m \u001b[0ms\u001b[0m\u001b[1;33m[\u001b[0m\u001b[1;33m(\u001b[0m\u001b[0mj\u001b[0m\u001b[1;33m+\u001b[0m\u001b[1;36m2\u001b[0m\u001b[1;33m)\u001b[0m\u001b[1;33m*\u001b[0m\u001b[0mi\u001b[0m\u001b[1;33m:\u001b[0m\u001b[1;33m]\u001b[0m\u001b[1;33m\u001b[0m\u001b[1;33m\u001b[0m\u001b[0m\n\u001b[0m",
      "\u001b[1;31mTypeError\u001b[0m: slice indices must be integers or None or have an __index__ method"
     ]
    }
   ],
   "source": [
    "s[(j+2)*i:]"
   ]
  },
  {
   "cell_type": "code",
   "execution_count": 278,
   "metadata": {},
   "outputs": [],
   "source": [
    "if min(strlen.keys()) == 'empty':\n",
    "    print(len(s))"
   ]
  },
  {
   "cell_type": "code",
   "execution_count": 280,
   "metadata": {},
   "outputs": [
    {
     "data": {
      "text/plain": [
       "1"
      ]
     },
     "execution_count": 280,
     "metadata": {},
     "output_type": "execute_result"
    }
   ],
   "source": [
    "len(strlen.keys())"
   ]
  },
  {
   "cell_type": "code",
   "execution_count": 245,
   "metadata": {},
   "outputs": [
    {
     "data": {
      "text/plain": [
       "'2ababcdcd'"
      ]
     },
     "execution_count": 245,
     "metadata": {},
     "output_type": "execute_result"
    }
   ],
   "source": [
    "strlen[min(strlen.keys())]"
   ]
  },
  {
   "cell_type": "code",
   "execution_count": 235,
   "metadata": {},
   "outputs": [
    {
     "data": {
      "text/plain": [
       "['2ababcdcd', '2ab2cd2ab2cd']"
      ]
     },
     "execution_count": 235,
     "metadata": {},
     "output_type": "execute_result"
    }
   ],
   "source": [
    "value"
   ]
  },
  {
   "cell_type": "code",
   "execution_count": 236,
   "metadata": {},
   "outputs": [
    {
     "data": {
      "text/plain": [
       "'2ababcdcd'"
      ]
     },
     "execution_count": 236,
     "metadata": {},
     "output_type": "execute_result"
    }
   ],
   "source": [
    "max(value)"
   ]
  },
  {
   "cell_type": "code",
   "execution_count": 294,
   "metadata": {},
   "outputs": [
    {
     "data": {
      "text/plain": [
       "14"
      ]
     },
     "execution_count": 294,
     "metadata": {},
     "output_type": "execute_result"
    }
   ],
   "source": [
    "answer"
   ]
  },
  {
   "cell_type": "code",
   "execution_count": 255,
   "metadata": {},
   "outputs": [
    {
     "data": {
      "text/plain": [
       "{'len5': [], 'len4': [], 'len3': '2abcded', 'len2': [], 'len1': []}"
      ]
     },
     "execution_count": 255,
     "metadata": {},
     "output_type": "execute_result"
    }
   ],
   "source": [
    "dic"
   ]
  },
  {
   "cell_type": "code",
   "execution_count": 224,
   "metadata": {},
   "outputs": [
    {
     "data": {
      "text/plain": [
       "12"
      ]
     },
     "execution_count": 224,
     "metadata": {},
     "output_type": "execute_result"
    }
   ],
   "source": [
    "len(min(value))"
   ]
  },
  {
   "cell_type": "code",
   "execution_count": 231,
   "metadata": {},
   "outputs": [
    {
     "data": {
      "text/plain": [
       "dict_values(['2ababcdcd', [], [], [], [], [], '2ab2cd2ab2cd', []])"
      ]
     },
     "execution_count": 231,
     "metadata": {},
     "output_type": "execute_result"
    }
   ],
   "source": [
    "dic.values()"
   ]
  },
  {
   "cell_type": "code",
   "execution_count": 257,
   "metadata": {},
   "outputs": [
    {
     "data": {
      "text/plain": [
       "17"
      ]
     },
     "execution_count": 257,
     "metadata": {},
     "output_type": "execute_result"
    }
   ],
   "source": [
    "len(\"xababcdcdababcdcd\")"
   ]
  },
  {
   "cell_type": "code",
   "execution_count": 287,
   "metadata": {},
   "outputs": [
    {
     "data": {
      "text/plain": [
       "0"
      ]
     },
     "execution_count": 287,
     "metadata": {},
     "output_type": "execute_result"
    }
   ],
   "source": [
    "strlen = {}\n",
    "len(strlen)"
   ]
  },
  {
   "cell_type": "code",
   "execution_count": 309,
   "metadata": {},
   "outputs": [],
   "source": [
    "x = \"(()())()\""
   ]
  },
  {
   "cell_type": "code",
   "execution_count": 310,
   "metadata": {},
   "outputs": [
    {
     "name": "stdout",
     "output_type": "stream",
     "text": [
      "y\n"
     ]
    }
   ],
   "source": [
    "if '()' in x:\n",
    "    print('y')"
   ]
  },
  {
   "cell_type": "code",
   "execution_count": 317,
   "metadata": {},
   "outputs": [
    {
     "name": "stdout",
     "output_type": "stream",
     "text": [
      "(\n",
      "(\n",
      "(\n",
      "(\n"
     ]
    }
   ],
   "source": [
    "for i in range(len(x)):\n",
    "    if x[i] == '(':\n",
    "        if x[i+1] == ')':\n",
    "            v =  \n",
    "    \n",
    "    "
   ]
  },
  {
   "cell_type": "code",
   "execution_count": 321,
   "metadata": {},
   "outputs": [],
   "source": [
    "import numpy as np"
   ]
  },
  {
   "cell_type": "code",
   "execution_count": 322,
   "metadata": {},
   "outputs": [],
   "source": [
    "key = np.array([[0, 0, 0], [1, 0, 0], [0, 1, 1]])\n",
    "lock = np.array([[1, 1, 1], [1, 1, 0], [1, 0, 1]])"
   ]
  },
  {
   "cell_type": "code",
   "execution_count": 326,
   "metadata": {},
   "outputs": [],
   "source": [
    "key = [[0, 0, 0], [1, 0, 0], [0, 1, 1]]\n",
    "lock = [[1, 1, 1], [1, 1, 0], [1, 0, 1]]"
   ]
  },
  {
   "cell_type": "code",
   "execution_count": 496,
   "metadata": {},
   "outputs": [
    {
     "name": "stdout",
     "output_type": "stream",
     "text": [
      "0\n",
      "[[0 1]\n",
      " [0 0]]\n",
      "[[0 1]\n",
      " [0 0]]\n",
      "[[-1  1]\n",
      " [ 1 -1]]\n",
      "[[-1  1]\n",
      " [ 1 -1]]\n",
      "1\n",
      "[[ 1  0]\n",
      " [-1  1]]\n",
      "[[ 1  0]\n",
      " [-1  1]]\n",
      "2\n",
      "[[0 1]\n",
      " [0 0]]\n",
      "[[0 1]\n",
      " [0 0]]\n",
      "[[-1  1]\n",
      " [ 1 -1]]\n",
      "[[-1  1]\n",
      " [ 1 -1]]\n",
      "3\n",
      "[[ 1  0]\n",
      " [-1  1]]\n",
      "[[ 1  0]\n",
      " [-1  1]]\n",
      "True\n"
     ]
    }
   ],
   "source": [
    "key = [[0, 0, 0], [1, 0, 0], [0, 1, 1]]\n",
    "lock = [[1, 1, 1], [1, 1, 0], [1, 0, 1]]\n",
    "\n",
    "m = len(key)\n",
    "n = len(lock)\n",
    "pattern = [(i,j.index(0)) for i,j in enumerate(lock) if 0 in j]\n",
    "pattern_size = np.array(pattern).shape\n",
    "scanner = np.array(pattern) - min(min(pattern))\n",
    "npkey = np.array(key)\n",
    "\n",
    "for i in range(4):\n",
    "    print(i)\n",
    "    for i in range(0,m-pattern_size[0] + 1,1):\n",
    "        for j in range(0,m-pattern_size[0] + 1,1):\n",
    "            temp = np.array((npkey[i][0:scanner.shape[0]],npkey[i+1][0:scanner.shape[1]]))\n",
    "            z = scanner - temp\n",
    "            if 1 not in z and -1 not in z:\n",
    "                answer = True\n",
    "                break\n",
    "            print(z)\n",
    "    for i in range(len(scanner[0])):\n",
    "            scanner[i] = [scanner[i][j] for j in range(len(scanner)-1,-1,-1)]\n",
    "\n",
    "# for i in range(len(scanner[0])):\n",
    "#     scanner[i] = [scanner[i][j] for j in range(len(scanner)-1,-1,-1)]\n",
    "# for i in range(0,m-pattern_size[0] + 1,1):\n",
    "#     for j in range(0,m-pattern_size[0] + 1,1):\n",
    "#         temp = np.array((npkey[i][0:scanner.shape[0]],npkey[i+1][0:scanner.shape[1]]))\n",
    "#         z = scanner - temp\n",
    "#         if 1 not in z & -1 not in z:\n",
    "#             answer = True    \n",
    "#         print(z)\n",
    "\n",
    "# for i in range(len(scanner[0])):\n",
    "#     scanner[i] = [scanner[i][j] for j in range(len(scanner)-1,-1,-1)]\n",
    "# for i in range(0,m-pattern_size[0] + 1,1):\n",
    "#     for j in range(0,m-pattern_size[0] + 1,1):\n",
    "#         temp = np.array((npkey[i][0:scanner.shape[0]],npkey[i+1][0:scanner.shape[1]]))\n",
    "#         z = scanner - temp\n",
    "#         if 1 not in z & -1 not in z:\n",
    "#             answer = True    \n",
    "#         print(z)\n",
    "\n",
    "# for i in range(len(scanner[0])):\n",
    "#     scanner[i] = [scanner[i][j] for j in range(len(scanner)-1,-1,-1)]\n",
    "# for i in range(0,m-pattern_size[0] + 1,1):\n",
    "#     for j in range(0,m-pattern_size[0] + 1,1):\n",
    "#         temp = np.array((npkey[i][0:scanner.shape[0]],npkey[i+1][0:scanner.shape[1]]))\n",
    "#         z = scanner - temp\n",
    "#         if 1 not in z & -1 not in z:\n",
    "#             answer = 'True'\n",
    "            \n",
    "#         print(z)\n",
    "    \n",
    "print(answer)"
   ]
  },
  {
   "cell_type": "code",
   "execution_count": 487,
   "metadata": {},
   "outputs": [
    {
     "data": {
      "text/plain": [
       "numpy.ndarray"
      ]
     },
     "execution_count": 487,
     "metadata": {},
     "output_type": "execute_result"
    }
   ],
   "source": [
    "type(z)"
   ]
  },
  {
   "cell_type": "code",
   "execution_count": 492,
   "metadata": {},
   "outputs": [
    {
     "name": "stdout",
     "output_type": "stream",
     "text": [
      "y\n"
     ]
    }
   ],
   "source": [
    "if 1 not in z and -1 not in z:\n",
    "    print('y')"
   ]
  },
  {
   "cell_type": "code",
   "execution_count": 465,
   "metadata": {},
   "outputs": [],
   "source": [
    "cs = [[0]*len(scanner[0]) for i in range(len(scanner))]"
   ]
  },
  {
   "cell_type": "code",
   "execution_count": 480,
   "metadata": {},
   "outputs": [
    {
     "name": "stdout",
     "output_type": "stream",
     "text": [
      "[1, 0]\n",
      "[0, 1]\n"
     ]
    }
   ],
   "source": [
    "for i in range(len(cs[0])):\n",
    "    cs[i] = [cs[i][j] for j in range(len(cs)-1,-1,-1)]\n",
    "    print(cs[i])"
   ]
  },
  {
   "cell_type": "code",
   "execution_count": 478,
   "metadata": {},
   "outputs": [
    {
     "data": {
      "text/plain": [
       "[[1, 0], [0, 1]]"
      ]
     },
     "execution_count": 478,
     "metadata": {},
     "output_type": "execute_result"
    }
   ],
   "source": [
    "cs"
   ]
  },
  {
   "cell_type": "code",
   "execution_count": 470,
   "metadata": {
    "scrolled": true
   },
   "outputs": [
    {
     "data": {
      "text/plain": [
       "array([[0, 1],\n",
       "       [1, 0]])"
      ]
     },
     "execution_count": 470,
     "metadata": {},
     "output_type": "execute_result"
    }
   ],
   "source": [
    "scanner"
   ]
  },
  {
   "cell_type": "code",
   "execution_count": 447,
   "metadata": {},
   "outputs": [],
   "source": [
    "cscanner = scanner\n",
    "cscanner[:][0] = scanner[0][:]\n",
    "cscanner[:][0] = scanner[0][:]"
   ]
  },
  {
   "cell_type": "code",
   "execution_count": 458,
   "metadata": {},
   "outputs": [],
   "source": [
    "cscanner = np.array([np.transpose(scanner[0]),np.transpose(scanner[1].T)])"
   ]
  },
  {
   "cell_type": "code",
   "execution_count": 460,
   "metadata": {},
   "outputs": [
    {
     "data": {
      "text/plain": [
       "array([0, 1])"
      ]
     },
     "execution_count": 460,
     "metadata": {},
     "output_type": "execute_result"
    }
   ],
   "source": [
    "scanner[:,0]"
   ]
  },
  {
   "cell_type": "code",
   "execution_count": null,
   "metadata": {},
   "outputs": [],
   "source": [
    "cscanner"
   ]
  },
  {
   "cell_type": "code",
   "execution_count": 459,
   "metadata": {},
   "outputs": [
    {
     "data": {
      "text/plain": [
       "array([[0, 1],\n",
       "       [1, 0]])"
      ]
     },
     "execution_count": 459,
     "metadata": {},
     "output_type": "execute_result"
    }
   ],
   "source": [
    "cscanner"
   ]
  },
  {
   "cell_type": "code",
   "execution_count": 449,
   "metadata": {},
   "outputs": [
    {
     "data": {
      "text/plain": [
       "array([[0, 1],\n",
       "       [1, 0]])"
      ]
     },
     "execution_count": 449,
     "metadata": {},
     "output_type": "execute_result"
    }
   ],
   "source": [
    "scanner"
   ]
  },
  {
   "cell_type": "code",
   "execution_count": 443,
   "metadata": {},
   "outputs": [
    {
     "data": {
      "text/plain": [
       "array([[0, 1],\n",
       "       [1, 0]])"
      ]
     },
     "execution_count": 443,
     "metadata": {},
     "output_type": "execute_result"
    }
   ],
   "source": [
    "cscanner"
   ]
  },
  {
   "cell_type": "code",
   "execution_count": 423,
   "metadata": {},
   "outputs": [],
   "source": [
    "z = scanner - temp"
   ]
  },
  {
   "cell_type": "code",
   "execution_count": 434,
   "metadata": {
    "scrolled": true
   },
   "outputs": [],
   "source": [
    "if 1 not in scanner & -1 not in scanner:\n",
    "    print(scanner)"
   ]
  },
  {
   "cell_type": "code",
   "execution_count": 348,
   "metadata": {},
   "outputs": [
    {
     "name": "stdout",
     "output_type": "stream",
     "text": [
      "[[1 2 0]\n",
      " [2 1 0]]\n"
     ]
    }
   ],
   "source": [
    "print(np.array([(1, 2, 0), (2, 1, 0)]))"
   ]
  },
  {
   "cell_type": "code",
   "execution_count": 353,
   "metadata": {},
   "outputs": [],
   "source": [
    "for i in range(3,6,-1):\n",
    "    print(i)"
   ]
  },
  {
   "cell_type": "code",
   "execution_count": 361,
   "metadata": {},
   "outputs": [
    {
     "data": {
      "text/plain": [
       "[array([0, 1]), array([1, 0])]"
      ]
     },
     "execution_count": 361,
     "metadata": {},
     "output_type": "execute_result"
    }
   ],
   "source": [
    "list(np.array(pattern) - min(min(pattern)))"
   ]
  },
  {
   "cell_type": "code",
   "execution_count": 362,
   "metadata": {},
   "outputs": [],
   "source": [
    "scanner = np.array(pattern) - min(min(pattern))"
   ]
  },
  {
   "cell_type": "code",
   "execution_count": 365,
   "metadata": {},
   "outputs": [
    {
     "data": {
      "text/plain": [
       "0"
      ]
     },
     "execution_count": 365,
     "metadata": {},
     "output_type": "execute_result"
    }
   ],
   "source": [
    "scanner[0+i][0]"
   ]
  },
  {
   "cell_type": "code",
   "execution_count": 366,
   "metadata": {},
   "outputs": [
    {
     "data": {
      "text/plain": [
       "array([[0, 1],\n",
       "       [1, 0]])"
      ]
     },
     "execution_count": 366,
     "metadata": {},
     "output_type": "execute_result"
    }
   ],
   "source": [
    "scanner"
   ]
  },
  {
   "cell_type": "code",
   "execution_count": 387,
   "metadata": {},
   "outputs": [],
   "source": [
    "npkey = np.array(key)"
   ]
  },
  {
   "cell_type": "code",
   "execution_count": 386,
   "metadata": {
    "scrolled": true
   },
   "outputs": [
    {
     "data": {
      "text/plain": [
       "(array([0, 0]), array([1, 0]))"
      ]
     },
     "execution_count": 386,
     "metadata": {},
     "output_type": "execute_result"
    }
   ],
   "source": [
    "np.array(key)[0][0:2],np.array(key)[1][0:2]"
   ]
  },
  {
   "cell_type": "code",
   "execution_count": 397,
   "metadata": {},
   "outputs": [
    {
     "name": "stdout",
     "output_type": "stream",
     "text": [
      "[0 0] [1 0]\n"
     ]
    }
   ],
   "source": [
    "print(npkey[0][0:2],npkey[1][0:2])"
   ]
  },
  {
   "cell_type": "code",
   "execution_count": 412,
   "metadata": {},
   "outputs": [],
   "source": [
    "temp = np.array((npkey[0][0:scanner.shape[0]],npkey[1][0:scanner.shape[1]]))"
   ]
  },
  {
   "cell_type": "code",
   "execution_count": 408,
   "metadata": {},
   "outputs": [
    {
     "data": {
      "text/plain": [
       "numpy.ndarray"
      ]
     },
     "execution_count": 408,
     "metadata": {},
     "output_type": "execute_result"
    }
   ],
   "source": [
    "type(temp)"
   ]
  },
  {
   "cell_type": "code",
   "execution_count": 411,
   "metadata": {},
   "outputs": [
    {
     "data": {
      "text/plain": [
       "array([[0, 1],\n",
       "       [0, 0]])"
      ]
     },
     "execution_count": 411,
     "metadata": {},
     "output_type": "execute_result"
    }
   ],
   "source": [
    "scanner - temp"
   ]
  },
  {
   "cell_type": "code",
   "execution_count": 497,
   "metadata": {},
   "outputs": [
    {
     "name": "stdout",
     "output_type": "stream",
     "text": [
      "[[0 1]\n",
      " [0 0]]\n",
      "[[0 1]\n",
      " [0 0]]\n",
      "[[-1  1]\n",
      " [ 1 -1]]\n",
      "[[-1  1]\n",
      " [ 1 -1]]\n",
      "[[ 1  0]\n",
      " [-1  1]]\n",
      "[[ 1  0]\n",
      " [-1  1]]\n",
      "[[0 0]\n",
      " [0 0]]\n",
      "[[0 0]\n",
      " [0 0]]\n",
      "[[0 1]\n",
      " [0 0]]\n",
      "[[0 1]\n",
      " [0 0]]\n",
      "[[-1  1]\n",
      " [ 1 -1]]\n",
      "[[-1  1]\n",
      " [ 1 -1]]\n",
      "True\n"
     ]
    }
   ],
   "source": [
    "key = [[0, 0, 0], [1, 0, 0], [0, 1, 1]]\n",
    "lock = [[1, 1, 1], [1, 1, 0], [1, 0, 1]]\n",
    "\n",
    "m = len(key)\n",
    "n = len(lock)\n",
    "pattern = [(i,j.index(0)) for i,j in enumerate(lock) if 0 in j]\n",
    "pattern_size = np.array(pattern).shape\n",
    "scanner = np.array(pattern) - min(min(pattern))\n",
    "npkey = np.array(key)\n",
    "\n",
    "for i in range(0,m-pattern_size[0] + 1,1):\n",
    "    for j in range(0,m-pattern_size[0] + 1,1):\n",
    "        temp = np.array((npkey[i][0:scanner.shape[0]],npkey[i+1][0:scanner.shape[1]]))\n",
    "        z = scanner - temp\n",
    "        if 1 not in z and -1 not in z:\n",
    "            answer = True\n",
    "            break\n",
    "        \n",
    "for i in range(len(scanner[0])):\n",
    "        scanner[i] = [scanner[i][j] for j in range(len(scanner)-1,-1,-1)]\n",
    "\n",
    "for i in range(0,m-pattern_size[0] + 1,1):\n",
    "    for j in range(0,m-pattern_size[0] + 1,1):\n",
    "        temp = np.array((npkey[i][0:scanner.shape[0]],npkey[i+1][0:scanner.shape[1]]))\n",
    "        z = scanner - temp\n",
    "        if 1 not in z and -1 not in z:\n",
    "            answer = True\n",
    "            break\n",
    "\n",
    "for i in range(len(scanner[0])):\n",
    "    scanner[i] = [scanner[i][j] for j in range(len(scanner)-1,-1,-1)]\n",
    "for i in range(0,m-pattern_size[0] + 1,1):\n",
    "    for j in range(0,m-pattern_size[0] + 1,1):\n",
    "        temp = np.array((npkey[i][0:scanner.shape[0]],npkey[i+1][0:scanner.shape[1]]))\n",
    "        z = scanner - temp\n",
    "        if 1 not in z and -1 not in z:\n",
    "            answer = True\n",
    "            break\n",
    "\n",
    "for i in range(len(scanner[0])):\n",
    "    scanner[i] = [scanner[i][j] for j in range(len(scanner)-1,-1,-1)]\n",
    "for i in range(0,m-pattern_size[0] + 1,1):\n",
    "    for j in range(0,m-pattern_size[0] + 1,1):\n",
    "        temp = np.array((npkey[i][0:scanner.shape[0]],npkey[i+1][0:scanner.shape[1]]))\n",
    "        z = scanner - temp\n",
    "        if 1 not in z and -1 not in z:\n",
    "            answer = True\n",
    "            break\n",
    "    \n",
    "print(answer)"
   ]
  },
  {
   "cell_type": "code",
   "execution_count": null,
   "metadata": {},
   "outputs": [],
   "source": [
    "import numpy as np\n",
    "def solution(key, lock):\n",
    "\n",
    "    pattern = [(i,j.index(0)) for i,j in enumerate(lock) if 0 in j]\n",
    "    scanner = np.array(pattern) - min(min(pattern))\n",
    "    npkey = np.array(key)\n",
    "\n",
    "    for i in range(4):\n",
    "        for i in range(0,len(key)-np.array(pattern).shape[0] + 1,1):\n",
    "            for j in range(0,len(key)-np.array(pattern).shape[0] + 1,1):\n",
    "                temp = np.array((npkey[i][0:scanner.shape[0]],npkey[i+1][0:scanner.shape[1]]))\n",
    "                \n",
    "                if 1 not in scanner - temp and -1 not in scanner - temp:\n",
    "                    answer = True\n",
    "                    break\n",
    "        for i in range(len(scanner[0])):\n",
    "                scanner[i] = [scanner[i][j] for j in range(len(scanner)-1,-1,-1)]\n",
    "    \n",
    "\n",
    "    return answer"
   ]
  },
  {
   "cell_type": "code",
   "execution_count": 502,
   "metadata": {},
   "outputs": [
    {
     "data": {
      "text/plain": [
       "1"
      ]
     },
     "execution_count": 502,
     "metadata": {},
     "output_type": "execute_result"
    }
   ],
   "source": [
    "min(min(pattern))"
   ]
  },
  {
   "cell_type": "code",
   "execution_count": 510,
   "metadata": {},
   "outputs": [],
   "source": [
    "board = np.array([[0, 0, 0, 1, 1],[0, 0, 0, 1, 0],[0, 1, 0, 1, 1],[1, 1, 0, 0, 1],[0, 0, 0, 0, 0]])\n",
    "x1 = 0\n",
    "y1 = 0\n",
    "x2 = 0\n",
    "y2 = 1\n",
    "bot = np.array([(x1,y1),(x2,y2)])"
   ]
  },
  {
   "cell_type": "code",
   "execution_count": 504,
   "metadata": {},
   "outputs": [
    {
     "name": "stdout",
     "output_type": "stream",
     "text": [
      "[[0 0 0 1 1]\n",
      " [0 0 0 1 0]\n",
      " [0 1 0 1 1]\n",
      " [1 1 0 0 1]\n",
      " [0 0 0 0 0]]\n"
     ]
    }
   ],
   "source": [
    "print(np.array(board))"
   ]
  },
  {
   "cell_type": "code",
   "execution_count": 531,
   "metadata": {},
   "outputs": [
    {
     "name": "stdout",
     "output_type": "stream",
     "text": [
      "[(1, 0), (1, 1)]\n",
      "[(1, -1), (1, 0)]\n",
      "[[ 1 -1]\n",
      " [ 1  0]]\n"
     ]
    }
   ],
   "source": [
    "x1 = 0\n",
    "y1 = 0\n",
    "x2 = 0\n",
    "y2 = 1\n",
    "\n",
    "for i in range(board.shape[0]):\n",
    "    if board[i][0] == 0 and board[i][1] == 0:\n",
    "        x1 += 1\n",
    "        x2 += 1\n",
    "        continue\n",
    "    else:\n",
    "        x1 -=1\n",
    "        x2 -=1\n",
    "        break\n",
    "print([(x1,y1),(x2,y2)])\n",
    "for i in range(board.shape[1]):\n",
    "    if board[x][i] == 0 and board[x][i+1] == 0:\n",
    "        y1 += 1\n",
    "        y2 += 1\n",
    "        continue\n",
    "    else:\n",
    "        y1 -= 1\n",
    "        y2 -= 1\n",
    "        break\n",
    "print([(x1,y1),(x2,y2)])\n",
    "bot = np.array([(x1,y1),(x2,y2)])\n",
    "print(bot)"
   ]
  },
  {
   "cell_type": "code",
   "execution_count": null,
   "metadata": {},
   "outputs": [],
   "source": []
  }
 ],
 "metadata": {
  "kernelspec": {
   "display_name": "Python 3",
   "language": "python",
   "name": "python3"
  },
  "language_info": {
   "codemirror_mode": {
    "name": "ipython",
    "version": 3
   },
   "file_extension": ".py",
   "mimetype": "text/x-python",
   "name": "python",
   "nbconvert_exporter": "python",
   "pygments_lexer": "ipython3",
   "version": "3.7.3"
  }
 },
 "nbformat": 4,
 "nbformat_minor": 2
}
